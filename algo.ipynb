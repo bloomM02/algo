{
  "nbformat": 4,
  "nbformat_minor": 0,
  "metadata": {
    "colab": {
      "name": "algo.ipynb",
      "provenance": []
    },
    "kernelspec": {
      "name": "python3",
      "display_name": "Python 3"
    },
    "language_info": {
      "name": "python"
    }
  },
  "cells": [
    {
      "cell_type": "code",
      "metadata": {
        "colab": {
          "base_uri": "https://localhost:8080/"
        },
        "id": "ijxG4TSvvk-5",
        "outputId": "26ca242e-222e-4160-a207-032a41bdfe28"
      },
      "source": [
        "def binary_search(arr, low, high, x):\n",
        "    if high >= low:\n",
        " \n",
        "        mid = (high + low) //2\n",
        "        if arr[mid] == x:\n",
        "            return mid\n",
        "        elif arr[mid] > x:\n",
        "            return binary_search(arr, low, mid - 1, x)\n",
        "        else:\n",
        "            return binary_search(arr, mid + 1, high, x)\n",
        " \n",
        "    else:\n",
        "        return -1\n",
        "print(binary_search((1,2,3,5,8),1,8, 6))\n",
        "\n",
        " "
      ],
      "execution_count": 7,
      "outputs": [
        {
          "output_type": "stream",
          "text": [
            "-1\n"
          ],
          "name": "stdout"
        }
      ]
    },
    {
      "cell_type": "code",
      "metadata": {
        "colab": {
          "base_uri": "https://localhost:8080/"
        },
        "id": "hkYxGfLczYJg",
        "outputId": "cce57cdf-2b33-4671-fd7e-28b04fdb7c66"
      },
      "source": [
        "def power(a,b):\n",
        "  return a**b\n",
        "print(power(9,2))\n",
        "\n"
      ],
      "execution_count": 8,
      "outputs": [
        {
          "output_type": "stream",
          "text": [
            "81\n"
          ],
          "name": "stdout"
        }
      ]
    },
    {
      "cell_type": "code",
      "metadata": {
        "colab": {
          "base_uri": "https://localhost:8080/"
        },
        "id": "5TtOCitj3qk2",
        "outputId": "03582ec2-d1f5-4b8a-b590-3ed6852b3f82"
      },
      "source": [
        "def bubbleSort(nlist):\n",
        "    for passnum in range(len(nlist)-1,0,-1):\n",
        "        for i in range(passnum):\n",
        "            if nlist[i]>nlist[i+1]:\n",
        "                temp = nlist[i]\n",
        "                nlist[i] = nlist[i+1]\n",
        "                nlist[i+1] = temp\n",
        "    return nlist\n",
        "print(bubbleSort([29,13,22,37,52,49,46,71,56]))"
      ],
      "execution_count": 13,
      "outputs": [
        {
          "output_type": "stream",
          "text": [
            "[13, 22, 29, 37, 46, 49, 52, 56, 71]\n"
          ],
          "name": "stdout"
        }
      ]
    },
    {
      "cell_type": "code",
      "metadata": {
        "colab": {
          "base_uri": "https://localhost:8080/"
        },
        "id": "AG44_SPa4Ysr",
        "outputId": "b464b86c-d1bd-478e-e5b9-40715406dbcf"
      },
      "source": [
        "def mergeSort(myList):\n",
        "    if len(myList) > 1:\n",
        "        mid = len(myList) // 2\n",
        "        left = myList[:mid]\n",
        "        right = myList[mid:]\n",
        "        mergeSort(left)\n",
        "        mergeSort(right)\n",
        "        i = 0\n",
        "        j = 0\n",
        "        k = 0\n",
        "        \n",
        "        while i < len(left) and j < len(right):\n",
        "            if left[i] < right[j]:\n",
        "              myList[k] = left[i]\n",
        "              i += 1\n",
        "            else:\n",
        "                myList[k] = right[j]\n",
        "                j += 1\n",
        "            k += 1\n",
        "        while i < len(left):\n",
        "            myList[k] = left[i]\n",
        "            i += 1\n",
        "            k += 1\n",
        "\n",
        "        while j < len(right):\n",
        "            myList[k]=right[j]\n",
        "            j += 1\n",
        "            k += 1\n",
        "\n",
        "myList = [29,13,22,37,52,49,46,71,56]\n",
        "mergeSort(myList)\n",
        "print(myList)"
      ],
      "execution_count": 21,
      "outputs": [
        {
          "output_type": "stream",
          "text": [
            "[13, 22, 29, 37, 46, 49, 52, 56, 71]\n"
          ],
          "name": "stdout"
        }
      ]
    },
    {
      "cell_type": "code",
      "metadata": {
        "colab": {
          "base_uri": "https://localhost:8080/"
        },
        "id": "nw8x7k3PA_Fk",
        "outputId": "5ec56044-45ec-4634-c71c-cd79c660073d"
      },
      "source": [
        "def partition(array, start, end):\n",
        "    pivot = array[start]\n",
        "    low = start + 1\n",
        "    high = end\n",
        "    while True:\n",
        "        while low <= high and array[high] >= pivot:\n",
        "            high = high - 1\n",
        "        while low <= high and array[low] <= pivot:\n",
        "            low = low + 1\n",
        "        if low <= high:\n",
        "            array[low], array[high] = array[high], array[low]\n",
        "        else:\n",
        "            break\n",
        "\n",
        "    array[start], array[high] = array[high], array[start]\n",
        "    return high\n",
        "def quick_sort(array, start, end):\n",
        "    if start >= end:\n",
        "        return\n",
        "    p = partition(array, start, end)\n",
        "    quick_sort(array, start, p-1)\n",
        "    quick_sort(array, p+1, end)\n",
        "rray = [29,13,22,37,52,49,46,71,56]\n",
        "quick_sort(array, 0, len(array) - 1)\n",
        "print(array)"
      ],
      "execution_count": 40,
      "outputs": [
        {
          "output_type": "stream",
          "text": [
            "[13, 22, 29, 37, 46, 49, 52, 56, 71]\n"
          ],
          "name": "stdout"
        }
      ]
    },
    {
      "cell_type": "code",
      "metadata": {
        "id": "rAhb0JnGCX1G"
      },
      "source": [
        ""
      ],
      "execution_count": null,
      "outputs": []
    }
  ]
}